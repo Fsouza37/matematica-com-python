{
 "cells": [
  {
   "cell_type": "markdown",
   "metadata": {},
   "source": [
    "# Equações matemática com Python \n",
    "\n",
    "### Créditos: https://azevedolab.net/"
   ]
  },
  {
   "cell_type": "markdown",
   "metadata": {},
   "source": [
    "## O método a baixo calcular a raiz quadrada de um número"
   ]
  },
  {
   "cell_type": "code",
   "execution_count": null,
   "metadata": {},
   "outputs": [],
   "source": [
    "import math #importa o modulo matematica para nosso programa\n",
    "x1 = float(input(\"Digite um numero =>\"))\n",
    "if x1 >= 0:\n",
    "        # math.sqrt tem a função de calcular a raiz quadrada\n",
    "        result = math.sqrt (x1)\n",
    "        print(\"Raiz quadrada = \", result)\n",
    "else:\n",
    "        print(\"Erro! Digite um numero maior ou igual a 0\")"
   ]
  },
  {
   "cell_type": "markdown",
   "metadata": {},
   "source": [
    "## O método abaixo calcula o logaritmo de um número"
   ]
  },
  {
   "cell_type": "code",
   "execution_count": null,
   "metadata": {},
   "outputs": [],
   "source": [
    "import math #importa o modulo matematica para nosso programa\n",
    "x1 = float(input(\"Digite um numero =>\"))\n",
    "if x1 > 0:\n",
    "        # math.log tem a função de calcular o logaritmo de um numero\n",
    "        result = math.log (x1)\n",
    "        print(\"Log = \", result)\n",
    "else:\n",
    "        print(\"Erro! Digite um numero maior que 0\")"
   ]
  },
  {
   "cell_type": "markdown",
   "metadata": {},
   "source": [
    "### Logaritimo com base 10"
   ]
  },
  {
   "cell_type": "markdown",
   "metadata": {},
   "source": [
    "Esse metodo abaixo tem a finalidade de nos mostrar quantas bases 10 tem o número informado"
   ]
  },
  {
   "cell_type": "code",
   "execution_count": null,
   "metadata": {},
   "outputs": [],
   "source": [
    "import math #importa o modulo matematica para nosso programa\n",
    "x1 = float(input(\"Digite um numero =>\"))\n",
    "if x1 > 0:\n",
    "        # math.log tem a função de calcular o logaritmo de um numero\n",
    "        result = math.log10 (x1)\n",
    "        print(\"Log10 = \", result)\n",
    "else:\n",
    "        print(\"Erro! Digite um numero maior que 0\")"
   ]
  },
  {
   "cell_type": "markdown",
   "metadata": {},
   "source": [
    "# O método abaixo calcula uma equação do 2° grau"
   ]
  },
  {
   "cell_type": "code",
   "execution_count": null,
   "metadata": {},
   "outputs": [],
   "source": [
    "import math\n",
    "a = float(input(\"Digite o coeficiente a =>\"))\n",
    "b = float(input(\"Digite o coeficiente b =>\"))\n",
    "c = float(input(\"Digite o coeficiente c =>\"))\n",
    "#calcula o valor da expressão \n",
    "delta = b**2-4*a*c\n",
    "if delta >=0:\n",
    "        x1 = (-b+math.sqrt(delta))/(2*a)\n",
    "        x2 = (-b-math.sqrt(delta))/(2*a)\n",
    "        print(\"A solução é: X1 =\", x1, \"e X2 =\", x2)\n",
    "else:\n",
    "        print(\"Não existe uma raiz real!\")"
   ]
  }
 ],
 "metadata": {
  "kernelspec": {
   "display_name": "Python 3",
   "language": "python",
   "name": "python3"
  },
  "language_info": {
   "codemirror_mode": {
    "name": "ipython",
    "version": 3
   },
   "file_extension": ".py",
   "mimetype": "text/x-python",
   "name": "python",
   "nbconvert_exporter": "python",
   "pygments_lexer": "ipython3",
   "version": "3.8.3"
  }
 },
 "nbformat": 4,
 "nbformat_minor": 4
}
